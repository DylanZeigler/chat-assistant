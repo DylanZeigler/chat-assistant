{
 "cells": [
  {
   "cell_type": "code",
   "execution_count": 2,
   "metadata": {},
   "outputs": [],
   "source": [
    "import os\n",
    "from langchain.document_loaders import TextLoader"
   ]
  },
  {
   "cell_type": "code",
   "execution_count": 3,
   "metadata": {},
   "outputs": [],
   "source": [
    "SAVE_DIRECTORY = \"./raw_docs\""
   ]
  },
  {
   "cell_type": "code",
   "execution_count": null,
   "metadata": {},
   "outputs": [],
   "source": [
    "file_paths = [os.path.join(SAVE_DIRECTORY, file) for file in os.listdir(SAVE_DIRECTORY)]\n",
    "\n",
    "# Load all documents from the folder\n",
    "documents = []\n",
    "for file_path in file_paths:\n",
    "    loader = TextLoader(file_path)\n",
    "    documents.extend(loader.load())\n"
   ]
  },
  {
   "cell_type": "code",
   "execution_count": 5,
   "metadata": {},
   "outputs": [
    {
     "data": {
      "text/plain": [
       "[Document(metadata={'source': './raw_docs\\\\app-service-and-cloud-services.md'}, page_content='# App and Cloud Services\\n\\nA Service could be a Kubernetes Deployment, Stateful set or a Daemon set. It can also be a Lambda function or an ECS task or service. It essentially captures a microservice. Each service (except Lambda) can be given a load balancer to expose itself and be assigned a DNS name.\\n\\n{% hint style=\"info\" %}\\nDuploCloud Service should not be confused with a Kubernetes or a ECS service. By service we mean application components that can either be Docker-based or serverless.\\n{% endhint %}\\n\\nBelow is an image of some properties of a service:\\n\\n<figure><img src=\"../../.gitbook/assets/screenshot-nimbusweb.me-2024.02.20-15_45_12.png\" alt=\"\"><figcaption></figcaption></figure>\\n\\n**Cloud Services:** DuploCloud supports a simple application specific interface to configure dozens of cloud services like S3, SNS, SQS, Kafka, Elasticsearch, Data Pipeline, EMR, Sagemaker, Azure Redis, Azure SQL, Google Redis, etc. Almost all commonly used services are supported and new ones are constantly added. A typical request to support a new service takes the DuploCloud team a matter of days, based on the complexity of the service.\\n\\n{% hint style=\"info\" %}\\nWhile users specify application level constructs for provisioning cloud resources, all the underlying DevOps and compliance controls are implicitly added by DuploCloud.\\n{% endhint %}\\n\\n<figure><img src=\"../../.gitbook/assets/screenshot-nimbusweb.me-2024.02.20-15_49_52.png\" alt=\"\"><figcaption></figcaption></figure>\\n\\n{% hint style=\"info\" %}\\n**IMPORTANT:** All services and cloud features are created within a Tenant.\\n{% endhint %}\\n'),\n",
       " Document(metadata={'source': './raw_docs\\\\diagnostics.md'}, page_content='# Diagnostics\\n\\nThe DuploCloud platform automatically orchestrates three main diagnostic functions:\\n\\n* **Central Logging:** A shared Elasticsearch cluster is deployed and file beat is installed in all worker nodes to fetch the logs from various applications across tenants. The logs are injected with metadata corresponding to Tenant name, service name, container ID, Host name, etc. Further, each tenant has the central logging dashboard which includes the Kibana view of the logs from applications within the service. See the screenshot below:\\n\\n<figure><img src=\"../../.gitbook/assets/screenshot-nimbusweb.me-2024.02.20-15_52_27.png\" alt=\"\"><figcaption></figcaption></figure>\\n\\n* **Metrics**: Metrics are fetched from hosts, containers, and cloud services like ELB, RDS, Redis, etc., and displayed in Grafana. Behind the scenes, for cloud services, these are collected by calling cloud provider APIs like CloudWatch and Azure Mon, while for nodes and containers, this is done using Prometheus, Node Exporter, and cAdvisor. Again, the dashboards are Tenant-centric and segregated per application and cloud service as shown in the picture below:\\n\\n<figure><img src=\"../../.gitbook/assets/screenshot-nimbusweb.me-2024.02.20-15_54_52.png\" alt=\"\"><figcaption></figcaption></figure>\\n\\n* **Alarms and Faults**: The platform creates faults for many failures automatically, such as Health check, container crashes, node crashes, deployment failures, etc. Further, users can easily set alarms on cloud services like CPU and Memory on EC2 instances, Free Disk space in RDS database, etc. All failures are displayed as faults per tenant. Sentry and Pager Duty projects can be linked to each tenant and DuploCloud will send these faults there so the user can set notification configurations.\\n* **Audit Trail:** An audit trail of all changes made to the system are logged in Elasticsearch where these can be audited using high level constructs like changes by tenant, by service, by change type, by user and dozens of other such filters.\\n\\n<figure><img src=\"../../.gitbook/assets/screenshot-nimbusweb.me-2024.02.20-15_56_17.png\" alt=\"\"><figcaption></figcaption></figure>\\n'),\n",
       " Document(metadata={'source': './raw_docs\\\\infrastructure.md'}, page_content='# Infrastructure\\n\\nEach Infrastructure represents a network connection to a unique VPC/VNET, in a region with a Kubernetes. In case of AWS it can also include an ECS. Infrastructure can be created with 4 basic inputs: Name, VPC CIDR, Number of AZs, Region, and the option to enable or disable a K8S/ECS cluster. Behind the scenes, the system will automatically create the subnets, NAT gateway, routes, and clusters in the given region.\\n\\n![Infrastructure Creation Screen](<../../.gitbook/assets/image (12) (4).png>)\\n\\nIf the Infrastructure requirement includes custom Private/Public Subnet CIDR, it can be achieved using  **Advanced Options.**\\n\\n{% hint style=\"info\" %}\\nA common use for Infrastructure is having two Infrastructures, one for prod and one for non-prod. Another one is having an infrastructure in a different region either for DR or localized deployments for clients in that region.\\n{% endhint %}\\n\\n***\\n'),\n",
       " Document(metadata={'source': './raw_docs\\\\plan.md'}, page_content='# Plan\\n\\nCorresponding to each infrastructure is the concept of a Plan. A Plan is a placeholder or a template for configurations. These configurations are consistently applied to all tenants within the plan (or Infrastructure). Examples of such configurations are:\\n\\n* Certificates available to be attached to load balancers in tenants of this plan\\n* Machine images\\n* WAF web ACLs\\n* Common IAM policies and SG rules to be applied to all resources in tenants within the plan.\\n* Unique or shared DNS domain name where applications provisioned in tenants within the plan can have a unique DNS name in this domain.\\n* Resource Quota: The plan also has a resource quota that is enforced in each of the tenants within that plan\\n* DB Parameter Groups\\n* Several policies and feature flags are to be applied at the infrastructure level on Tenants within the plan.\\n\\nThe figure below shows a screenshot of the plan constructs:\\n\\n![](<../../.gitbook/assets/Screen Shot 2022-03-12 at 8.12.26 PM.png>)\\n'),\n",
       " Document(metadata={'source': './raw_docs\\\\README.md'}, page_content='# Application Focused Interface\\n\\nThe greatest capability of the DuploCloud platform is the application infrastructure centric abstraction created on top of the cloud provider which enables the user to deploy and operate their applications without knowledge of lower level DevOps nuances. Further, unlike a PAAS such as Heroku, the platform does not get in the way of users consuming cloud services directly from the cloud provider, as in a user directly operating on constructs like S3, DynamoDB, Lambda functions, GCP Redis, Azure SQL etc., while offering greater scale and unlimited flexibility.\\n\\nSome concepts relating to security (DevSecOps) are hidden from the end user, for example IAM roles, KMS keys, Azure Managed Identities, GCP service accounts etc. However, even those are configurable for the operator and in any case since this is a self-hosted platform running in the customer\\'s own cloud account, the platform is capable of working in tandem with direct changes on the cloud account by an administrator. This is explained with examples at [https://duplocloud.com/white-papers/devops/](https://duplocloud.com/white-papers/devops/)\\n\\nThe following picture shows the high level abstractions within which applications are deployed and users operate.\\n\\n<figure><img src=\"../../.gitbook/assets/gad.png\" alt=\"\"><figcaption></figcaption></figure>\\n\\nWhile there are many concepts in the policy model, the following are the main ones to be aware of:\\n\\n* Infrastructure\\n* Plan\\n* Tenant\\n* App and Cloud Services\\n* Diagnostics\\n')]"
      ]
     },
     "execution_count": 5,
     "metadata": {},
     "output_type": "execute_result"
    }
   ],
   "source": [
    "documents"
   ]
  },
  {
   "cell_type": "code",
   "execution_count": 18,
   "metadata": {},
   "outputs": [
    {
     "name": "stderr",
     "output_type": "stream",
     "text": [
      "Created a chunk of size 744, which is longer than the specified 500\n",
      "Created a chunk of size 586, which is longer than the specified 500\n",
      "Created a chunk of size 564, which is longer than the specified 500\n",
      "Created a chunk of size 546, which is longer than the specified 500\n"
     ]
    },
    {
     "name": "stdout",
     "output_type": "stream",
     "text": [
      "20\n"
     ]
    },
    {
     "data": {
      "text/plain": [
       "[Document(metadata={'source': './raw_docs\\\\app-service-and-cloud-services.md'}, page_content='# App and Cloud Services\\n\\nA Service could be a Kubernetes Deployment, Stateful set or a Daemon set. It can also be a Lambda function or an ECS task or service. It essentially captures a microservice. Each service (except Lambda) can be given a load balancer to expose itself and be assigned a DNS name.'),\n",
       " Document(metadata={'source': './raw_docs\\\\app-service-and-cloud-services.md'}, page_content='{% hint style=\"info\" %}\\nDuploCloud Service should not be confused with a Kubernetes or a ECS service. By service we mean application components that can either be Docker-based or serverless.\\n{% endhint %}\\n\\nBelow is an image of some properties of a service:\\n\\n<figure><img src=\"../../.gitbook/assets/screenshot-nimbusweb.me-2024.02.20-15_45_12.png\" alt=\"\"><figcaption></figcaption></figure>'),\n",
       " Document(metadata={'source': './raw_docs\\\\app-service-and-cloud-services.md'}, page_content='**Cloud Services:** DuploCloud supports a simple application specific interface to configure dozens of cloud services like S3, SNS, SQS, Kafka, Elasticsearch, Data Pipeline, EMR, Sagemaker, Azure Redis, Azure SQL, Google Redis, etc. Almost all commonly used services are supported and new ones are constantly added. A typical request to support a new service takes the DuploCloud team a matter of days, based on the complexity of the service.'),\n",
       " Document(metadata={'source': './raw_docs\\\\app-service-and-cloud-services.md'}, page_content='{% hint style=\"info\" %}\\nWhile users specify application level constructs for provisioning cloud resources, all the underlying DevOps and compliance controls are implicitly added by DuploCloud.\\n{% endhint %}\\n\\n<figure><img src=\"../../.gitbook/assets/screenshot-nimbusweb.me-2024.02.20-15_49_52.png\" alt=\"\"><figcaption></figcaption></figure>\\n\\n{% hint style=\"info\" %}\\n**IMPORTANT:** All services and cloud features are created within a Tenant.\\n{% endhint %}'),\n",
       " Document(metadata={'source': './raw_docs\\\\diagnostics.md'}, page_content='# Diagnostics\\n\\nThe DuploCloud platform automatically orchestrates three main diagnostic functions:'),\n",
       " Document(metadata={'source': './raw_docs\\\\diagnostics.md'}, page_content='* **Central Logging:** A shared Elasticsearch cluster is deployed and file beat is installed in all worker nodes to fetch the logs from various applications across tenants. The logs are injected with metadata corresponding to Tenant name, service name, container ID, Host name, etc. Further, each tenant has the central logging dashboard which includes the Kibana view of the logs from applications within the service. See the screenshot below:'),\n",
       " Document(metadata={'source': './raw_docs\\\\diagnostics.md'}, page_content='<figure><img src=\"../../.gitbook/assets/screenshot-nimbusweb.me-2024.02.20-15_52_27.png\" alt=\"\"><figcaption></figcaption></figure>'),\n",
       " Document(metadata={'source': './raw_docs\\\\diagnostics.md'}, page_content='* **Metrics**: Metrics are fetched from hosts, containers, and cloud services like ELB, RDS, Redis, etc., and displayed in Grafana. Behind the scenes, for cloud services, these are collected by calling cloud provider APIs like CloudWatch and Azure Mon, while for nodes and containers, this is done using Prometheus, Node Exporter, and cAdvisor. Again, the dashboards are Tenant-centric and segregated per application and cloud service as shown in the picture below:'),\n",
       " Document(metadata={'source': './raw_docs\\\\diagnostics.md'}, page_content='<figure><img src=\"../../.gitbook/assets/screenshot-nimbusweb.me-2024.02.20-15_54_52.png\" alt=\"\"><figcaption></figcaption></figure>'),\n",
       " Document(metadata={'source': './raw_docs\\\\diagnostics.md'}, page_content='* **Alarms and Faults**: The platform creates faults for many failures automatically, such as Health check, container crashes, node crashes, deployment failures, etc. Further, users can easily set alarms on cloud services like CPU and Memory on EC2 instances, Free Disk space in RDS database, etc. All failures are displayed as faults per tenant. Sentry and Pager Duty projects can be linked to each tenant and DuploCloud will send these faults there so the user can set notification configurations.\\n* **Audit Trail:** An audit trail of all changes made to the system are logged in Elasticsearch where these can be audited using high level constructs like changes by tenant, by service, by change type, by user and dozens of other such filters.'),\n",
       " Document(metadata={'source': './raw_docs\\\\diagnostics.md'}, page_content='<figure><img src=\"../../.gitbook/assets/screenshot-nimbusweb.me-2024.02.20-15_56_17.png\" alt=\"\"><figcaption></figcaption></figure>'),\n",
       " Document(metadata={'source': './raw_docs\\\\infrastructure.md'}, page_content='# Infrastructure\\n\\nEach Infrastructure represents a network connection to a unique VPC/VNET, in a region with a Kubernetes. In case of AWS it can also include an ECS. Infrastructure can be created with 4 basic inputs: Name, VPC CIDR, Number of AZs, Region, and the option to enable or disable a K8S/ECS cluster. Behind the scenes, the system will automatically create the subnets, NAT gateway, routes, and clusters in the given region.'),\n",
       " Document(metadata={'source': './raw_docs\\\\infrastructure.md'}, page_content='![Infrastructure Creation Screen](<../../.gitbook/assets/image (12) (4).png>)\\n\\nIf the Infrastructure requirement includes custom Private/Public Subnet CIDR, it can be achieved using  **Advanced Options.**\\n\\n{% hint style=\"info\" %}\\nA common use for Infrastructure is having two Infrastructures, one for prod and one for non-prod. Another one is having an infrastructure in a different region either for DR or localized deployments for clients in that region.\\n{% endhint %}\\n\\n***'),\n",
       " Document(metadata={'source': './raw_docs\\\\plan.md'}, page_content='# Plan\\n\\nCorresponding to each infrastructure is the concept of a Plan. A Plan is a placeholder or a template for configurations. These configurations are consistently applied to all tenants within the plan (or Infrastructure). Examples of such configurations are:'),\n",
       " Document(metadata={'source': './raw_docs\\\\plan.md'}, page_content='* Certificates available to be attached to load balancers in tenants of this plan\\n* Machine images\\n* WAF web ACLs\\n* Common IAM policies and SG rules to be applied to all resources in tenants within the plan.\\n* Unique or shared DNS domain name where applications provisioned in tenants within the plan can have a unique DNS name in this domain.\\n* Resource Quota: The plan also has a resource quota that is enforced in each of the tenants within that plan\\n* DB Parameter Groups\\n* Several policies and feature flags are to be applied at the infrastructure level on Tenants within the plan.'),\n",
       " Document(metadata={'source': './raw_docs\\\\plan.md'}, page_content='The figure below shows a screenshot of the plan constructs:\\n\\n![](<../../.gitbook/assets/Screen Shot 2022-03-12 at 8.12.26 PM.png>)'),\n",
       " Document(metadata={'source': './raw_docs\\\\README.md'}, page_content='# Application Focused Interface'),\n",
       " Document(metadata={'source': './raw_docs\\\\README.md'}, page_content='The greatest capability of the DuploCloud platform is the application infrastructure centric abstraction created on top of the cloud provider which enables the user to deploy and operate their applications without knowledge of lower level DevOps nuances. Further, unlike a PAAS such as Heroku, the platform does not get in the way of users consuming cloud services directly from the cloud provider, as in a user directly operating on constructs like S3, DynamoDB, Lambda functions, GCP Redis, Azure SQL etc., while offering greater scale and unlimited flexibility.'),\n",
       " Document(metadata={'source': './raw_docs\\\\README.md'}, page_content=\"Some concepts relating to security (DevSecOps) are hidden from the end user, for example IAM roles, KMS keys, Azure Managed Identities, GCP service accounts etc. However, even those are configurable for the operator and in any case since this is a self-hosted platform running in the customer's own cloud account, the platform is capable of working in tandem with direct changes on the cloud account by an administrator. This is explained with examples at [https://duplocloud.com/white-papers/devops/](https://duplocloud.com/white-papers/devops/)\"),\n",
       " Document(metadata={'source': './raw_docs\\\\README.md'}, page_content='The following picture shows the high level abstractions within which applications are deployed and users operate.\\n\\n<figure><img src=\"../../.gitbook/assets/gad.png\" alt=\"\"><figcaption></figcaption></figure>\\n\\nWhile there are many concepts in the policy model, the following are the main ones to be aware of:\\n\\n* Infrastructure\\n* Plan\\n* Tenant\\n* App and Cloud Services\\n* Diagnostics')]"
      ]
     },
     "execution_count": 18,
     "metadata": {},
     "output_type": "execute_result"
    }
   ],
   "source": [
    "from langchain.text_splitter import CharacterTextSplitter\n",
    "\n",
    "# Step 2: Split the documents into smaller chunks\n",
    "text_splitter = CharacterTextSplitter(chunk_size=500, chunk_overlap=50)\n",
    "texts = text_splitter.split_documents(documents)\n",
    "print(len(texts))\n",
    "texts\n"
   ]
  },
  {
   "cell_type": "code",
   "execution_count": 44,
   "metadata": {},
   "outputs": [],
   "source": [
    "from langchain.embeddings import OpenAIEmbeddings\n",
    "from langchain.vectorstores import FAISS\n",
    "\n",
    "# load half the embeddings\n",
    "embeddings = OpenAIEmbeddings(model=\"text-embedding-3-large\")\n",
    "vectorstore = FAISS.from_documents(texts, embeddings)\n"
   ]
  },
  {
   "cell_type": "code",
   "execution_count": 28,
   "metadata": {},
   "outputs": [],
   "source": [
    "# from langchain_community.embeddings import Model2vecEmbeddings\n",
    "\n",
    "# embeddings = Model2vecEmbeddings(\"minishlab/potion-base-8M\")\n",
    "# vectorstore = FAISS.from_documents(texts, embeddings)"
   ]
  },
  {
   "cell_type": "code",
   "execution_count": null,
   "metadata": {},
   "outputs": [],
   "source": [
    "# from langchain.embeddings import HuggingFaceEmbeddings\n",
    "\n",
    "# embedding_model = HuggingFaceEmbeddings(model_name=\"sentence-transformers/all-MiniLM-L6-v2\")\n",
    "# vectorstore = FAISS.from_documents(texts, embedding_model)"
   ]
  },
  {
   "cell_type": "code",
   "execution_count": 40,
   "metadata": {},
   "outputs": [
    {
     "data": {
      "text/plain": [
       "{'input': 'Does Duplocloud generate terraform behind the scenes?',\n",
       " 'context': [Document(id='a67801a9-53a1-48bd-8b9c-b098827eb052', metadata={'source': './raw_docs\\\\app-service-and-cloud-services.md'}, page_content='{% hint style=\"info\" %}\\nDuploCloud Service should not be confused with a Kubernetes or a ECS service. By service we mean application components that can either be Docker-based or serverless.\\n{% endhint %}\\n\\nBelow is an image of some properties of a service:\\n\\n<figure><img src=\"../../.gitbook/assets/screenshot-nimbusweb.me-2024.02.20-15_45_12.png\" alt=\"\"><figcaption></figcaption></figure>')],\n",
       " 'answer': '\\n\\nNo, DuploCloud does not generate terraform behind the scenes. It is a service that manages application components, such as Docker-based or serverless components.'}"
      ]
     },
     "execution_count": 40,
     "metadata": {},
     "output_type": "execute_result"
    }
   ],
   "source": [
    "from langchain.llms import OpenAI\n",
    "from langchain_core.prompts import ChatPromptTemplate\n",
    "from langchain.chains import create_retrieval_chain\n",
    "from langchain.chains.combine_documents import create_stuff_documents_chain\n",
    "from langchain.memory import ConversationBufferMemory\n",
    "from langchain.chains import LLMChain\n",
    "\n",
    "llm = OpenAI(temperature=0)\n",
    "retriever = vectorstore.as_retriever(search_kwargs={\"k\": 3})\n",
    "\n",
    "system_prompt = (\n",
    "    \"Use the given context to answer the question. \"\n",
    "    \"If you don't know the answer, say you don't know. \"\n",
    "    \"Use three sentence maximum and keep the answer concise. \"\n",
    "    \"Context: {context}\\n\"\n",
    ")\n",
    "prompt = ChatPromptTemplate.from_messages(\n",
    "    [\n",
    "        (\"system\", system_prompt),\n",
    "        (\"human\", \"{input}\"),\n",
    "    ]\n",
    ")\n",
    "question_answer_chain = create_stuff_documents_chain(llm, prompt)\n",
    "chain = create_retrieval_chain(retriever, question_answer_chain)\n",
    "\n",
    "chain.invoke({\"input\": \"Does Duplocloud generate terraform behind the scenes?\"})\n"
   ]
  },
  {
   "cell_type": "code",
   "execution_count": 49,
   "metadata": {},
   "outputs": [
    {
     "name": "stdout",
     "output_type": "stream",
     "text": [
      "\n",
      "\n",
      "\u001b[1m> Entering new AgentExecutor chain...\u001b[0m\n",
      "\u001b[32;1m\u001b[1;3mI should use the Duck Duck Go search tool to find the latest news on AI in 2025.\n",
      "Action: duckduckgo_results_json\n",
      "Action Input: AI news 2025\u001b[0m\n",
      "Observation: \u001b[36;1m\u001b[1;3msnippet: If 2023 was the year of AI fervor, following the late-2022 release of ChatGPT, 2024 was marked by a steady drumbeat of advances as systems got smarter, faster, and cheaper to run. AI also began to ..., title: 5 Predictions for AI in 2025 - TIME, link: https://time.com/7204665/ai-predictions-2025/, snippet: Based on the insights gleaned from this handful of AI experts, 2025 looks to be even more revolutionary for the sector than 2024 with some surprising predictions and trends likely to develop ..., title: Top 5 AI Predictions From Experts In 2025 - Forbes, link: https://www.forbes.com/sites/torconstantino/2024/12/31/top-5-ai-predictions-from-experts-in-2025/, snippet: Bonus Trend: Smarter, Faster AI Applications. By 2025, AI systems will be smarter, faster, and more efficient, thanks to innovations in computation and resource optimization. Dynamic Resource Allocation: AI models will use adaptive algorithms to scale computing power based on task complexity. For instance, a recommendation engine might deploy ..., title: Top 15 AI Trends for 2025: Expert Predictions You Need to Know, link: https://techstartups.com/2025/01/01/top-15-ai-trends-for-2025-expert-predictions-you-need-to-know/, snippet: In 2025, these trends will continue to be a boon for defense-tech companies like Palantir, Anduril, and others, which are now capitalizing on classified military data to train AI models., title: What's next for AI in 2025 - MIT Technology Review, link: https://www.technologyreview.com/2025/01/08/1109188/whats-next-for-ai-in-2025/\u001b[0m\n",
      "Thought:\u001b[32;1m\u001b[1;3mI should read the articles from TIME, Forbes, TechStartups, and MIT Technology Review to get a comprehensive view of the latest news on AI in 2025.\n",
      "Action: Document Retrieval\n",
      "Action Input: URLs of the articles from TIME, Forbes, TechStartups, and MIT Technology Review\u001b[0m\n",
      "Observation: \u001b[33;1m\u001b[1;3m[Document(id='77f09896-838a-4430-a541-8c2d712dd24a', metadata={'source': 'https://raw.githubusercontent.com/duplocloud/docs/main/getting-started-1/application-focussed-interface/diagnostics.md'}, page_content='* **Metrics**: Metrics are fetched from hosts, containers, and cloud services like ELB, RDS, Redis, etc., and displayed in Grafana. Behind the scenes, for cloud services, these are collected by calling cloud provider APIs like CloudWatch and Azure Mon, while for nodes and containers, this is done using Prometheus, Node Exporter, and cAdvisor. Again, the dashboards are Tenant-centric and segregated per application and cloud service as shown in the picture below:'), Document(id='cd84493b-dd67-4ba7-8ea3-ef91c61afc8f', metadata={'source': 'https://raw.githubusercontent.com/duplocloud/docs/main/getting-started-1/application-focussed-interface/plan.md'}, page_content='The figure below shows a screenshot of the plan constructs:\\n\\n![](<../../.gitbook/assets/Screen Shot 2022-03-12 at 8.12.26 PM.png>)'), Document(id='80e85f80-b672-47f6-9f6c-895c51c8841a', metadata={'source': 'https://raw.githubusercontent.com/duplocloud/docs/main/getting-started-1/application-focussed-interface/app-service-and-cloud-services.md'}, page_content='Below is an image of some properties of a service:\\n\\n**Cloud Services:** DuploCloud supports a simple application specific interface to configure dozens of cloud services like S3, SNS, SQS, Kafka, Elasticsearch, Data Pipeline, EMR, Sagemaker, Azure Redis, Azure SQL, Google Redis, etc. Almost all commonly used services are supported and new ones are constantly added. A typical request to support a new service takes the DuploCloud team a matter of days, based on the complexity of the service.'), Document(id='6f689e12-e0aa-4811-ad18-e169265642a3', metadata={'source': 'https://raw.githubusercontent.com/duplocloud/docs/main/getting-started-1/application-focussed-interface/diagnostics.md'}, page_content='# Diagnostics\\n\\nThe DuploCloud platform automatically orchestrates three main diagnostic functions:')]\u001b[0m\n",
      "Thought:\u001b[32;1m\u001b[1;3mIt seems like the Document Retrieval tool did not retrieve the correct documents related to the latest news on AI in 2025. I should try using the Duck Duck Go search tool again to find more relevant articles.\n",
      "Action: duckduckgo_results_json\n",
      "Action Input: Latest news on AI in 2025\u001b[0m\n",
      "Observation: \u001b[36;1m\u001b[1;3msnippet: Surging emissions, battlefield algorithms, Trump's chip war, and other predictions. This story originally appeared in The Algorithm, our weekly newsletter on AI. To get stories like this in your ..., title: What's next for AI in 2025? | MIT Technology Review, link: https://www.technologyreview.com/2025/01/14/1109958/whats-next-for-ai-in-2025-2/, snippet: If 2023 was the year of AI fervor, following the late-2022 release of ChatGPT, 2024 was marked by a steady drumbeat of advances as systems got smarter, faster, and cheaper to run. AI also began to ..., title: 5 Predictions for AI in 2025 - TIME, link: https://time.com/7204665/ai-predictions-2025/, snippet: Discover the 10 major AI trends set to reshape 2025: from augmented working and real-time decision-making to advanced AI legislation and sustainable AI initiatives., title: The 10 Biggest AI Trends Of 2025 Everyone Must Be Ready For Today - Forbes, link: https://www.forbes.com/sites/bernardmarr/2024/09/24/the-10-biggest-ai-trends-of-2025-everyone-must-be-ready-for-today/, snippet: Based on the insights gleaned from this handful of AI experts, 2025 looks to be even more revolutionary for the sector than 2024 with some surprising predictions and trends likely to develop ..., title: Top 5 AI Predictions From Experts In 2025 - Forbes, link: https://www.forbes.com/sites/torconstantino/2024/12/31/top-5-ai-predictions-from-experts-in-2025/\u001b[0m\n",
      "Thought:\u001b[32;1m\u001b[1;3mI should read the articles from MIT Technology Review, TIME, and Forbes to get a better understanding of the latest news on AI in 2025.\n",
      "Action: Document Retrieval\n",
      "Action Input: URLs of the articles from MIT Technology Review, TIME, and Forbes\u001b[0m\n",
      "Observation: \u001b[33;1m\u001b[1;3m[Document(id='6f689e12-e0aa-4811-ad18-e169265642a3', metadata={'source': 'https://raw.githubusercontent.com/duplocloud/docs/main/getting-started-1/application-focussed-interface/diagnostics.md'}, page_content='# Diagnostics\\n\\nThe DuploCloud platform automatically orchestrates three main diagnostic functions:'), Document(id='77f09896-838a-4430-a541-8c2d712dd24a', metadata={'source': 'https://raw.githubusercontent.com/duplocloud/docs/main/getting-started-1/application-focussed-interface/diagnostics.md'}, page_content='* **Metrics**: Metrics are fetched from hosts, containers, and cloud services like ELB, RDS, Redis, etc., and displayed in Grafana. Behind the scenes, for cloud services, these are collected by calling cloud provider APIs like CloudWatch and Azure Mon, while for nodes and containers, this is done using Prometheus, Node Exporter, and cAdvisor. Again, the dashboards are Tenant-centric and segregated per application and cloud service as shown in the picture below:'), Document(id='cd84493b-dd67-4ba7-8ea3-ef91c61afc8f', metadata={'source': 'https://raw.githubusercontent.com/duplocloud/docs/main/getting-started-1/application-focussed-interface/plan.md'}, page_content='The figure below shows a screenshot of the plan constructs:\\n\\n![](<../../.gitbook/assets/Screen Shot 2022-03-12 at 8.12.26 PM.png>)'), Document(id='143e8d45-64c9-4a22-9a7c-e5f105eb5af2', metadata={'source': 'https://raw.githubusercontent.com/duplocloud/docs/main/getting-started-1/application-focussed-interface/README.md'}, page_content='The following picture shows the high level abstractions within which applications are deployed and users operate.\\n\\nWhile there are many concepts in the policy model, the following are the main ones to be aware of:\\n\\n* Infrastructure\\n* Plan\\n* Tenant\\n* App and Cloud Services\\n* Diagnostics')]\u001b[0m\n",
      "Thought:\u001b[32;1m\u001b[1;3mIt seems like the Document Retrieval tool is not retrieving the correct documents related to the latest news on AI in 2025. I should try using the Duck Duck Go search tool again to find more relevant articles.\n",
      "Action: duckduckgo_results_json\n",
      "Action Input: Latest news on AI in 2025\u001b[0m\n",
      "Observation: \u001b[36;1m\u001b[1;3msnippet: Surging emissions, battlefield algorithms, Trump's chip war, and other predictions. This story originally appeared in The Algorithm, our weekly newsletter on AI. To get stories like this in your ..., title: What's next for AI in 2025? | MIT Technology Review, link: https://www.technologyreview.com/2025/01/14/1109958/whats-next-for-ai-in-2025-2/, snippet: Discover the 10 major AI trends set to reshape 2025: from augmented working and real-time decision-making to advanced AI legislation and sustainable AI initiatives., title: The 10 Biggest AI Trends Of 2025 Everyone Must Be Ready For Today - Forbes, link: https://www.forbes.com/sites/bernardmarr/2024/09/24/the-10-biggest-ai-trends-of-2025-everyone-must-be-ready-for-today/, snippet: Based on the insights gleaned from this handful of AI experts, 2025 looks to be even more revolutionary for the sector than 2024 with some surprising predictions and trends likely to develop ..., title: Top 5 AI Predictions From Experts In 2025 - Forbes, link: https://www.forbes.com/sites/torconstantino/2024/12/31/top-5-ai-predictions-from-experts-in-2025/, snippet: If 2023 was the year of AI fervor, following the late-2022 release of ChatGPT, 2024 was marked by a steady drumbeat of advances as systems got smarter, faster, and cheaper to run. AI also began to ..., title: 5 Predictions for AI in 2025 - TIME, link: https://time.com/7204665/ai-predictions-2025/\u001b[0m\n",
      "Thought:\u001b[32;1m\u001b[1;3mI should read the articles from MIT Technology Review, Forbes, and TIME to get a comprehensive view of the latest news on AI in 2025.\n",
      "Action: Document Retrieval\n",
      "Action Input: URLs of the articles from MIT Technology Review, Forbes, and TIME\u001b[0m\n",
      "Observation: \u001b[33;1m\u001b[1;3m[Document(id='6f689e12-e0aa-4811-ad18-e169265642a3', metadata={'source': 'https://raw.githubusercontent.com/duplocloud/docs/main/getting-started-1/application-focussed-interface/diagnostics.md'}, page_content='# Diagnostics\\n\\nThe DuploCloud platform automatically orchestrates three main diagnostic functions:'), Document(id='77f09896-838a-4430-a541-8c2d712dd24a', metadata={'source': 'https://raw.githubusercontent.com/duplocloud/docs/main/getting-started-1/application-focussed-interface/diagnostics.md'}, page_content='* **Metrics**: Metrics are fetched from hosts, containers, and cloud services like ELB, RDS, Redis, etc., and displayed in Grafana. Behind the scenes, for cloud services, these are collected by calling cloud provider APIs like CloudWatch and Azure Mon, while for nodes and containers, this is done using Prometheus, Node Exporter, and cAdvisor. Again, the dashboards are Tenant-centric and segregated per application and cloud service as shown in the picture below:'), Document(id='cd84493b-dd67-4ba7-8ea3-ef91c61afc8f', metadata={'source': 'https://raw.githubusercontent.com/duplocloud/docs/main/getting-started-1/application-focussed-interface/plan.md'}, page_content='The figure below shows a screenshot of the plan constructs:\\n\\n![](<../../.gitbook/assets/Screen Shot 2022-03-12 at 8.12.26 PM.png>)'), Document(id='143e8d45-64c9-4a22-9a7c-e5f105eb5af2', metadata={'source': 'https://raw.githubusercontent.com/duplocloud/docs/main/getting-started-1/application-focussed-interface/README.md'}, page_content='The following picture shows the high level abstractions within which applications are deployed and users operate.\\n\\nWhile there are many concepts in the policy model, the following are the main ones to be aware of:\\n\\n* Infrastructure\\n* Plan\\n* Tenant\\n* App and Cloud Services\\n* Diagnostics')]\u001b[0m\n",
      "Thought:\u001b[32;1m\u001b[1;3mIt seems like the Document Retrieval tool is not retrieving the correct documents related to the latest news on AI in 2025. I should try using the Duck Duck Go search tool again to find more relevant articles.\n",
      "Action: duckduckgo_results_json\n",
      "Action Input: Latest news on AI in 2025\u001b[0m\n",
      "Observation: \u001b[36;1m\u001b[1;3msnippet: Surging emissions, battlefield algorithms, Trump's chip war, and other predictions. This story originally appeared in The Algorithm, our weekly newsletter on AI. To get stories like this in your ..., title: What's next for AI in 2025? | MIT Technology Review, link: https://www.technologyreview.com/2025/01/14/1109958/whats-next-for-ai-in-2025-2/, snippet: Discover the 10 major AI trends set to reshape 2025: from augmented working and real-time decision-making to advanced AI legislation and sustainable AI initiatives., title: The 10 Biggest AI Trends Of 2025 Everyone Must Be Ready For Today - Forbes, link: https://www.forbes.com/sites/bernardmarr/2024/09/24/the-10-biggest-ai-trends-of-2025-everyone-must-be-ready-for-today/, snippet: Based on the insights gleaned from this handful of AI experts, 2025 looks to be even more revolutionary for the sector than 2024 with some surprising predictions and trends likely to develop ..., title: Top 5 AI Predictions From Experts In 2025 - Forbes, link: https://www.forbes.com/sites/torconstantino/2024/12/31/top-5-ai-predictions-from-experts-in-2025/, snippet: If 2023 was the year of AI fervor, following the late-2022 release of ChatGPT, 2024 was marked by a steady drumbeat of advances as systems got smarter, faster, and cheaper to run. AI also began to ..., title: 5 Predictions for AI in 2025 - TIME, link: https://time.com/7204665/ai-predictions-2025/\u001b[0m\n",
      "Thought:\u001b[32;1m\u001b[1;3mI should try using the Duck Duck Go search tool again to find more relevant articles on the latest news on AI in 2025.\n",
      "Action: duckduckgo_results_json\n",
      "Action Input: Latest news on AI in 2025\u001b[0m\n",
      "Observation: \u001b[36;1m\u001b[1;3msnippet: Surging emissions, battlefield algorithms, Trump's chip war, and other predictions. This story originally appeared in The Algorithm, our weekly newsletter on AI. To get stories like this in your ..., title: What's next for AI in 2025? | MIT Technology Review, link: https://www.technologyreview.com/2025/01/14/1109958/whats-next-for-ai-in-2025-2/, snippet: If 2023 was the year of AI fervor, following the late-2022 release of ChatGPT, 2024 was marked by a steady drumbeat of advances as systems got smarter, faster, and cheaper to run. AI also began to ..., title: 5 Predictions for AI in 2025 - TIME, link: https://time.com/7204665/ai-predictions-2025/, snippet: Discover the 10 major AI trends set to reshape 2025: from augmented working and real-time decision-making to advanced AI legislation and sustainable AI initiatives., title: The 10 Biggest AI Trends Of 2025 Everyone Must Be Ready For Today - Forbes, link: https://www.forbes.com/sites/bernardmarr/2024/09/24/the-10-biggest-ai-trends-of-2025-everyone-must-be-ready-for-today/, snippet: Based on the insights gleaned from this handful of AI experts, 2025 looks to be even more revolutionary for the sector than 2024 with some surprising predictions and trends likely to develop ..., title: Top 5 AI Predictions From Experts In 2025 - Forbes, link: https://www.forbes.com/sites/torconstantino/2024/12/31/top-5-ai-predictions-from-experts-in-2025/\u001b[0m\n",
      "Thought:\u001b[32;1m\u001b[1;3mI should read the articles from MIT Technology Review, TIME, and Forbes to get a comprehensive view of the latest news on AI in 2025.\n",
      "Final Answer: To get the latest news on AI in 2025, I should read articles from MIT Technology Review, TIME, and Forbes.\u001b[0m\n",
      "\n",
      "\u001b[1m> Finished chain.\u001b[0m\n",
      "To get the latest news on AI in 2025, I should read articles from MIT Technology Review, TIME, and Forbes.\n"
     ]
    }
   ],
   "source": [
    "from langchain.agents import initialize_agent, Tool, AgentType\n",
    "from langchain_community.tools import DuckDuckGoSearchResults\n",
    "from langchain.vectorstores import FAISS\n",
    "from langchain.embeddings.openai import OpenAIEmbeddings\n",
    "from langchain.chat_models import ChatOpenAI\n",
    "\n",
    "# Set up OpenAI and SerpAPI API keys\n",
    "\n",
    "# Create the Web Search Tool using SerpAPI\n",
    "search_tool = DuckDuckGoSearchResults()\n",
    "\n",
    "# Initialize the Document Store (Example using FAISS)\n",
    "embedding = OpenAIEmbeddings()\n",
    "document_store = FAISS.load_local(\n",
    "    \"./data/stores/faiss_vector_store\", embeddings, allow_dangerous_deserialization=True\n",
    ")\n",
    "# Create the Retrieval-Augmented Generation (RAG) tool\n",
    "rag_tool = Tool(\n",
    "    name=\"Document Retrieval\",\n",
    "    func=lambda query: document_store.similarity_search(query),\n",
    "    description=\"This tool retrieves documents from a local document store.\"\n",
    ")\n",
    "\n",
    "# Combine the tools into an agent\n",
    "tools = [search_tool, rag_tool]\n",
    "\n",
    "# Set up the LLM for your chain\n",
    "llm = ChatOpenAI(temperature=0)\n",
    "\n",
    "# Define an agent to handle the conversation\n",
    "agent = initialize_agent(\n",
    "    tools=tools,\n",
    "    agent_type=AgentType.ZERO_SHOT_REACT_DESCRIPTION,\n",
    "    llm=llm,\n",
    "    verbose=True\n",
    ")\n",
    "\n",
    "# Example interaction\n",
    "def answer_query(query):\n",
    "    response = agent.run(query)\n",
    "    return response\n",
    "\n",
    "# Example of usage\n",
    "query = \"What is the latest news on AI in 2025?\"\n",
    "response = answer_query(query)\n",
    "print(response)\n"
   ]
  },
  {
   "cell_type": "code",
   "execution_count": 276,
   "metadata": {},
   "outputs": [],
   "source": [
    "from typing import Annotated\n",
    "\n",
    "from typing_extensions import TypedDict\n",
    "\n",
    "from langgraph.graph import StateGraph, START, END\n",
    "from langgraph.graph.message import add_messages\n",
    "\n",
    "from pydantic import BaseModel, Field\n",
    "\n",
    "\n",
    "class State(TypedDict):\n",
    "    rag_documents: list[str]\n",
    "    chat_response: str\n",
    "    chat_history: list[str]\n",
    "    query: str\n",
    "    web_sources: list[str]\n",
    "    document_search: bool\n",
    "\n",
    "\n",
    "\n",
    "\n",
    "graph_builder = StateGraph(State)"
   ]
  },
  {
   "cell_type": "code",
   "execution_count": 277,
   "metadata": {},
   "outputs": [
    {
     "data": {
      "text/plain": [
       "<langgraph.graph.state.StateGraph at 0x1ef33909190>"
      ]
     },
     "execution_count": 277,
     "metadata": {},
     "output_type": "execute_result"
    }
   ],
   "source": [
    "\n",
    "def determine_document_search(state: State):\n",
    "    print(\"NODE: determine_document_search\")\n",
    "    query = state[\"query\"]\n",
    "    response = chain.invoke({\"input\": f\"Does this query reference to DuploCloud or a question about DuploCloud? query:{query}\"})\n",
    "\n",
    "    print(response[\"answer\"])\n",
    "    state[\"document_search\"] = True\n",
    "    state[\"chat_response\"] = response[\"answer\"]\n",
    "\n",
    "    return state\n",
    "\n",
    "def llm_rag(state: State):\n",
    "    print(\"NODE: llm_rag\")\n",
    "    query = state[\"query\"]\n",
    "    print(query)\n",
    "    response = chain.invoke({\"input\": query})\n",
    "    print(response[\"answer\"])\n",
    "    print(type(response[\"answer\"]))\n",
    "\n",
    "    state[\"rag_documents\"] = [\"doc1\", \"doc2\", \"doc3\"]\n",
    "    state[\"chat_response\"] = response[\"answer\"]\n",
    "\n",
    "    print(state)\n",
    "\n",
    "    return state\n",
    "\n",
    "def llm_web(state: State):\n",
    "    print(\"NODE: llm_web\")\n",
    "    query = state[\"query\"]\n",
    "    print(query)\n",
    "    response = chain.invoke({\"input\": query})\n",
    "    state[\"chat_response\"] = response[\"answer\"]\n",
    "\n",
    "    return state\n",
    "\n",
    "\n",
    "graph_builder.add_node(\"determine_document_search\", determine_document_search)\n",
    "graph_builder.add_node(\"llm_rag\", llm_rag)\n",
    "graph_builder.add_node(\"llm_web\", llm_web)"
   ]
  },
  {
   "cell_type": "code",
   "execution_count": 278,
   "metadata": {},
   "outputs": [
    {
     "data": {
      "text/plain": [
       "<langgraph.graph.state.StateGraph at 0x1ef33909190>"
      ]
     },
     "execution_count": 278,
     "metadata": {},
     "output_type": "execute_result"
    }
   ],
   "source": [
    "def route_document_search(\n",
    "    state: State,\n",
    "):\n",
    "    print(\"CONDITIONAL EDGE: route_document_search\")\n",
    "    \n",
    "    if state[\"document_search\"]:\n",
    "        print(\"llm_rag chosen\")\n",
    "        return \"llm_rag\"\n",
    "    else:\n",
    "        print(\"llm_web chosen\")\n",
    "        return \"llm_web\"\n",
    "\n",
    "graph_builder.add_conditional_edges(\n",
    "    \"determine_document_search\",\n",
    "    route_document_search,\n",
    "    {\"llm_rag\": \"llm_rag\", \"llm_web\": \"llm_web\"},\n",
    ")\n"
   ]
  },
  {
   "cell_type": "code",
   "execution_count": 279,
   "metadata": {},
   "outputs": [],
   "source": [
    "graph_builder.add_edge(START, \"determine_document_search\")\n",
    "graph_builder.add_edge(\"llm_rag\", END)\n",
    "graph_builder.add_edge(\"llm_web\", END)\n",
    "graph = graph_builder.compile()"
   ]
  },
  {
   "cell_type": "code",
   "execution_count": 283,
   "metadata": {},
   "outputs": [
    {
     "data": {
      "image/png": "[encoded data removed]",
      "text/plain": [
       "<IPython.core.display.Image object>"
      ]
     },
     "metadata": {},
     "output_type": "display_data"
    }
   ],
   "source": [
    "from IPython.display import Image, display\n",
    "\n",
    "try:\n",
    "    display(Image(graph.get_graph().draw_mermaid_png()))\n",
    "    graph.get_graph().draw_mermaid_png(output_file_path=\"./assistant/graph.png\")\n",
    "except Exception:\n",
    "    # This requires some extra dependencies and is optional\n",
    "    pass"
   ]
  },
  {
   "cell_type": "code",
   "execution_count": 281,
   "metadata": {},
   "outputs": [],
   "source": [
    "def stream_graph_updates(user_input: str):\n",
    "    for event in graph.stream({\"query\": user_input}):\n",
    "        for value in event.values():\n",
    "            print(\"Assistant:\", value)\n"
   ]
  },
  {
   "cell_type": "code",
   "execution_count": 282,
   "metadata": {},
   "outputs": [
    {
     "name": "stdout",
     "output_type": "stream",
     "text": [
      "NODE: determine_document_search\n",
      "\n",
      "\n",
      "This query is about DuploCloud, specifically about its properties as shown in the image.\n",
      "CONDITIONAL EDGE: route_document_search\n",
      "llm_rag chosen\n",
      "NODE: llm_rag\n",
      "What is duplocloud?\n",
      "\n",
      "\n",
      "DuploCloud is an application component that can either be Docker-based or serverless. It should not be confused with a Kubernetes or ECS service.\n",
      "<class 'str'>\n",
      "{'chat_response': '\\n\\nDuploCloud is an application component that can either be Docker-based or serverless. It should not be confused with a Kubernetes or ECS service.', 'query': 'What is duplocloud?', 'document_search': True, 'rag_documents': ['doc1', 'doc2', 'doc3']}\n",
      "{'rag_documents': ['doc1', 'doc2', 'doc3'], 'chat_response': '\\n\\nDuploCloud is an application component that can either be Docker-based or serverless. It should not be confused with a Kubernetes or ECS service.', 'query': 'What is duplocloud?', 'document_search': True}\n"
     ]
    },
    {
     "data": {
      "text/plain": [
       "{'rag_documents': ['doc1', 'doc2', 'doc3'],\n",
       " 'chat_response': '\\n\\nDuploCloud is an application component that can either be Docker-based or serverless. It should not be confused with a Kubernetes or ECS service.',\n",
       " 'query': 'What is duplocloud?',\n",
       " 'document_search': True}"
      ]
     },
     "execution_count": 282,
     "metadata": {},
     "output_type": "execute_result"
    }
   ],
   "source": [
    "response = graph.invoke({\"query\": \"What is duplocloud?\"})\n",
    "print(response)\n",
    "response"
   ]
  },
  {
   "cell_type": "code",
   "execution_count": null,
   "metadata": {},
   "outputs": [],
   "source": []
  },
  {
   "cell_type": "code",
   "execution_count": null,
   "metadata": {},
   "outputs": [],
   "source": []
  }
 ],
 "metadata": {
  "kernelspec": {
   "display_name": "Python 3",
   "language": "python",
   "name": "python3"
  },
  "language_info": {
   "codemirror_mode": {
    "name": "ipython",
    "version": 3
   },
   "file_extension": ".py",
   "mimetype": "text/x-python",
   "name": "python",
   "nbconvert_exporter": "python",
   "pygments_lexer": "ipython3",
   "version": "3.11.9"
  }
 },
 "nbformat": 4,
 "nbformat_minor": 2
}

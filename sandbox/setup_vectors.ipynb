{
 "cells": [
  {
   "cell_type": "code",
   "execution_count": 1,
   "metadata": {},
   "outputs": [],
   "source": [
    "\n",
    "REPO_OWNER = \"duplocloud\"  # Replace with the repository owner\n",
    "REPO_NAME = \"docs\"  # Replace with the repository name\n",
    "DIRECTORY_PATH = \"getting-started-1/application-focussed-interface\"  # Replace with the directory path\n",
    "SAVE_DIRECTORY = \"./raw_docs\"  # Local directory to save files\n",
    "ACCESS_TOKEN = None  # Optional: Add a GitHub personal access token for private repos\n"
   ]
  },
  {
   "cell_type": "code",
   "execution_count": 2,
   "metadata": {},
   "outputs": [
    {
     "data": {
      "text/plain": [
       "['https://raw.githubusercontent.com/duplocloud/docs/main/getting-started-1/application-focussed-interface/README.md',\n",
       " 'https://raw.githubusercontent.com/duplocloud/docs/main/getting-started-1/application-focussed-interface/app-service-and-cloud-services.md',\n",
       " 'https://raw.githubusercontent.com/duplocloud/docs/main/getting-started-1/application-focussed-interface/diagnostics.md',\n",
       " 'https://raw.githubusercontent.com/duplocloud/docs/main/getting-started-1/application-focussed-interface/infrastructure.md',\n",
       " 'https://raw.githubusercontent.com/duplocloud/docs/main/getting-started-1/application-focussed-interface/plan.md']"
      ]
     },
     "execution_count": 2,
     "metadata": {},
     "output_type": "execute_result"
    }
   ],
   "source": [
    "import requests\n",
    "\"\"\"\n",
    "Fetch all files in a specific directory of a GitHub repository.\n",
    "\n",
    ":param repo_owner: Owner of the repository (e.g., 'octocat').\n",
    ":param repo_name: Name of the repository (e.g., 'Hello-World').\n",
    ":param directory_path: Path to the target directory within the repository.\n",
    ":param access_token: Personal access token for private repositories (optional).\n",
    ":return: List of file paths within the specified directory.\n",
    "\"\"\"\n",
    "base_url = f\"https://api.github.com/repos/{REPO_OWNER}/{REPO_NAME}/contents/{DIRECTORY_PATH}\"\n",
    "headers = {}\n",
    "files = []\n",
    "\n",
    "response = requests.get(base_url, headers=headers)\n",
    "\n",
    "if response.status_code == 200:\n",
    "    files = []\n",
    "    contents = response.json()\n",
    "\n",
    "    for item in contents:\n",
    "        if item['type'] == 'file':\n",
    "            files.append(item['download_url'])\n",
    "\n",
    "else:\n",
    "    raise Exception(f\"Failed to fetch files: {response.status_code} - {response.text}\")\n",
    "\n",
    "files\n"
   ]
  },
  {
   "cell_type": "code",
   "execution_count": 3,
   "metadata": {},
   "outputs": [
    {
     "name": "stderr",
     "output_type": "stream",
     "text": [
      "USER_AGENT environment variable not set, consider setting it to identify your requests.\n"
     ]
    },
    {
     "data": {
      "text/plain": [
       "[Document(metadata={'source': 'https://raw.githubusercontent.com/duplocloud/docs/main/getting-started-1/application-focussed-interface/README.md'}, page_content=\"# Application Focused Interface\\n\\nThe greatest capability of the DuploCloud platform is the application infrastructure centric abstraction created on top of the cloud provider which enables the user to deploy and operate their applications without knowledge of lower level DevOps nuances. Further, unlike a PAAS such as Heroku, the platform does not get in the way of users consuming cloud services directly from the cloud provider, as in a user directly operating on constructs like S3, DynamoDB, Lambda functions, GCP Redis, Azure SQL etc., while offering greater scale and unlimited flexibility.\\n\\nSome concepts relating to security (DevSecOps) are hidden from the end user, for example IAM roles, KMS keys, Azure Managed Identities, GCP service accounts etc. However, even those are configurable for the operator and in any case since this is a self-hosted platform running in the customer's own cloud account, the platform is capable of working in tandem with direct changes on the cloud account by an administrator. This is explained with examples at [https://duplocloud.com/white-papers/devops/](https://duplocloud.com/white-papers/devops/)\\n\\nThe following picture shows the high level abstractions within which applications are deployed and users operate.\\n\\n\\n\\nWhile there are many concepts in the policy model, the following are the main ones to be aware of:\\n\\n* Infrastructure\\n* Plan\\n* Tenant\\n* App and Cloud Services\\n* Diagnostics\\n\"),\n",
       " Document(metadata={'source': 'https://raw.githubusercontent.com/duplocloud/docs/main/getting-started-1/application-focussed-interface/app-service-and-cloud-services.md'}, page_content='# App and Cloud Services\\n\\nA Service could be a Kubernetes Deployment, Stateful set or a Daemon set. It can also be a Lambda function or an ECS task or service. It essentially captures a microservice. Each service (except Lambda) can be given a load balancer to expose itself and be assigned a DNS name.\\n\\n{% hint style=\"info\" %}\\nDuploCloud Service should not be confused with a Kubernetes or a ECS service. By service we mean application components that can either be Docker-based or serverless.\\n{% endhint %}\\n\\nBelow is an image of some properties of a service:\\n\\n\\n\\n**Cloud Services:** DuploCloud supports a simple application specific interface to configure dozens of cloud services like S3, SNS, SQS, Kafka, Elasticsearch, Data Pipeline, EMR, Sagemaker, Azure Redis, Azure SQL, Google Redis, etc. Almost all commonly used services are supported and new ones are constantly added. A typical request to support a new service takes the DuploCloud team a matter of days, based on the complexity of the service.\\n\\n{% hint style=\"info\" %}\\nWhile users specify application level constructs for provisioning cloud resources, all the underlying DevOps and compliance controls are implicitly added by DuploCloud.\\n{% endhint %}\\n\\n\\n\\n{% hint style=\"info\" %}\\n**IMPORTANT:** All services and cloud features are created within a Tenant.\\n{% endhint %}\\n'),\n",
       " Document(metadata={'source': 'https://raw.githubusercontent.com/duplocloud/docs/main/getting-started-1/application-focussed-interface/diagnostics.md'}, page_content='# Diagnostics\\n\\nThe DuploCloud platform automatically orchestrates three main diagnostic functions:\\n\\n* **Central Logging:** A shared Elasticsearch cluster is deployed and file beat is installed in all worker nodes to fetch the logs from various applications across tenants. The logs are injected with metadata corresponding to Tenant name, service name, container ID, Host name, etc. Further, each tenant has the central logging dashboard which includes the Kibana view of the logs from applications within the service. See the screenshot below:\\n\\n\\n\\n* **Metrics**: Metrics are fetched from hosts, containers, and cloud services like ELB, RDS, Redis, etc., and displayed in Grafana. Behind the scenes, for cloud services, these are collected by calling cloud provider APIs like CloudWatch and Azure Mon, while for nodes and containers, this is done using Prometheus, Node Exporter, and cAdvisor. Again, the dashboards are Tenant-centric and segregated per application and cloud service as shown in the picture below:\\n\\n\\n\\n* **Alarms and Faults**: The platform creates faults for many failures automatically, such as Health check, container crashes, node crashes, deployment failures, etc. Further, users can easily set alarms on cloud services like CPU and Memory on EC2 instances, Free Disk space in RDS database, etc. All failures are displayed as faults per tenant. Sentry and Pager Duty projects can be linked to each tenant and DuploCloud will send these faults there so the user can set notification configurations.\\n* **Audit Trail:** An audit trail of all changes made to the system are logged in Elasticsearch where these can be audited using high level constructs like changes by tenant, by service, by change type, by user and dozens of other such filters.\\n\\n\\n'),\n",
       " Document(metadata={'source': 'https://raw.githubusercontent.com/duplocloud/docs/main/getting-started-1/application-focussed-interface/infrastructure.md'}, page_content='# Infrastructure\\n\\nEach Infrastructure represents a network connection to a unique VPC/VNET, in a region with a Kubernetes. In case of AWS it can also include an ECS. Infrastructure can be created with 4 basic inputs: Name, VPC CIDR, Number of AZs, Region, and the option to enable or disable a K8S/ECS cluster. Behind the scenes, the system will automatically create the subnets, NAT gateway, routes, and clusters in the given region.\\n\\n![Infrastructure Creation Screen](<../../.gitbook/assets/image (12) (4).png>)\\n\\nIf the Infrastructure requirement includes custom Private/Public Subnet CIDR, it can be achieved using  **Advanced Options.**\\n\\n{% hint style=\"info\" %}\\nA common use for Infrastructure is having two Infrastructures, one for prod and one for non-prod. Another one is having an infrastructure in a different region either for DR or localized deployments for clients in that region.\\n{% endhint %}\\n\\n***\\n'),\n",
       " Document(metadata={'source': 'https://raw.githubusercontent.com/duplocloud/docs/main/getting-started-1/application-focussed-interface/plan.md'}, page_content='# Plan\\n\\nCorresponding to each infrastructure is the concept of a Plan. A Plan is a placeholder or a template for configurations. These configurations are consistently applied to all tenants within the plan (or Infrastructure). Examples of such configurations are:\\n\\n* Certificates available to be attached to load balancers in tenants of this plan\\n* Machine images\\n* WAF web ACLs\\n* Common IAM policies and SG rules to be applied to all resources in tenants within the plan.\\n* Unique or shared DNS domain name where applications provisioned in tenants within the plan can have a unique DNS name in this domain.\\n* Resource Quota: The plan also has a resource quota that is enforced in each of the tenants within that plan\\n* DB Parameter Groups\\n* Several policies and feature flags are to be applied at the infrastructure level on Tenants within the plan.\\n\\nThe figure below shows a screenshot of the plan constructs:\\n\\n![](<../../.gitbook/assets/Screen Shot 2022-03-12 at 8.12.26 PM.png>)\\n')]"
      ]
     },
     "execution_count": 3,
     "metadata": {},
     "output_type": "execute_result"
    }
   ],
   "source": [
    "from langchain_community.document_loaders import WebBaseLoader\n",
    "\n",
    "loader = WebBaseLoader(files)\n",
    "docs = loader.load()\n",
    "docs"
   ]
  },
  {
   "cell_type": "code",
   "execution_count": 4,
   "metadata": {},
   "outputs": [
    {
     "name": "stderr",
     "output_type": "stream",
     "text": [
      "Created a chunk of size 564, which is longer than the specified 500\n",
      "Created a chunk of size 546, which is longer than the specified 500\n",
      "Created a chunk of size 744, which is longer than the specified 500\n",
      "Created a chunk of size 586, which is longer than the specified 500\n"
     ]
    },
    {
     "name": "stdout",
     "output_type": "stream",
     "text": [
      "17\n"
     ]
    },
    {
     "data": {
      "text/plain": [
       "[Document(metadata={'source': 'https://raw.githubusercontent.com/duplocloud/docs/main/getting-started-1/application-focussed-interface/README.md'}, page_content='# Application Focused Interface'),\n",
       " Document(metadata={'source': 'https://raw.githubusercontent.com/duplocloud/docs/main/getting-started-1/application-focussed-interface/README.md'}, page_content='The greatest capability of the DuploCloud platform is the application infrastructure centric abstraction created on top of the cloud provider which enables the user to deploy and operate their applications without knowledge of lower level DevOps nuances. Further, unlike a PAAS such as Heroku, the platform does not get in the way of users consuming cloud services directly from the cloud provider, as in a user directly operating on constructs like S3, DynamoDB, Lambda functions, GCP Redis, Azure SQL etc., while offering greater scale and unlimited flexibility.'),\n",
       " Document(metadata={'source': 'https://raw.githubusercontent.com/duplocloud/docs/main/getting-started-1/application-focussed-interface/README.md'}, page_content=\"Some concepts relating to security (DevSecOps) are hidden from the end user, for example IAM roles, KMS keys, Azure Managed Identities, GCP service accounts etc. However, even those are configurable for the operator and in any case since this is a self-hosted platform running in the customer's own cloud account, the platform is capable of working in tandem with direct changes on the cloud account by an administrator. This is explained with examples at [https://duplocloud.com/white-papers/devops/](https://duplocloud.com/white-papers/devops/)\"),\n",
       " Document(metadata={'source': 'https://raw.githubusercontent.com/duplocloud/docs/main/getting-started-1/application-focussed-interface/README.md'}, page_content='The following picture shows the high level abstractions within which applications are deployed and users operate.\\n\\nWhile there are many concepts in the policy model, the following are the main ones to be aware of:\\n\\n* Infrastructure\\n* Plan\\n* Tenant\\n* App and Cloud Services\\n* Diagnostics'),\n",
       " Document(metadata={'source': 'https://raw.githubusercontent.com/duplocloud/docs/main/getting-started-1/application-focussed-interface/app-service-and-cloud-services.md'}, page_content='# App and Cloud Services\\n\\nA Service could be a Kubernetes Deployment, Stateful set or a Daemon set. It can also be a Lambda function or an ECS task or service. It essentially captures a microservice. Each service (except Lambda) can be given a load balancer to expose itself and be assigned a DNS name.'),\n",
       " Document(metadata={'source': 'https://raw.githubusercontent.com/duplocloud/docs/main/getting-started-1/application-focussed-interface/app-service-and-cloud-services.md'}, page_content='{% hint style=\"info\" %}\\nDuploCloud Service should not be confused with a Kubernetes or a ECS service. By service we mean application components that can either be Docker-based or serverless.\\n{% endhint %}\\n\\nBelow is an image of some properties of a service:'),\n",
       " Document(metadata={'source': 'https://raw.githubusercontent.com/duplocloud/docs/main/getting-started-1/application-focussed-interface/app-service-and-cloud-services.md'}, page_content='Below is an image of some properties of a service:\\n\\n**Cloud Services:** DuploCloud supports a simple application specific interface to configure dozens of cloud services like S3, SNS, SQS, Kafka, Elasticsearch, Data Pipeline, EMR, Sagemaker, Azure Redis, Azure SQL, Google Redis, etc. Almost all commonly used services are supported and new ones are constantly added. A typical request to support a new service takes the DuploCloud team a matter of days, based on the complexity of the service.'),\n",
       " Document(metadata={'source': 'https://raw.githubusercontent.com/duplocloud/docs/main/getting-started-1/application-focussed-interface/app-service-and-cloud-services.md'}, page_content='{% hint style=\"info\" %}\\nWhile users specify application level constructs for provisioning cloud resources, all the underlying DevOps and compliance controls are implicitly added by DuploCloud.\\n{% endhint %}\\n\\n{% hint style=\"info\" %}\\n**IMPORTANT:** All services and cloud features are created within a Tenant.\\n{% endhint %}'),\n",
       " Document(metadata={'source': 'https://raw.githubusercontent.com/duplocloud/docs/main/getting-started-1/application-focussed-interface/diagnostics.md'}, page_content='# Diagnostics\\n\\nThe DuploCloud platform automatically orchestrates three main diagnostic functions:'),\n",
       " Document(metadata={'source': 'https://raw.githubusercontent.com/duplocloud/docs/main/getting-started-1/application-focussed-interface/diagnostics.md'}, page_content='* **Central Logging:** A shared Elasticsearch cluster is deployed and file beat is installed in all worker nodes to fetch the logs from various applications across tenants. The logs are injected with metadata corresponding to Tenant name, service name, container ID, Host name, etc. Further, each tenant has the central logging dashboard which includes the Kibana view of the logs from applications within the service. See the screenshot below:'),\n",
       " Document(metadata={'source': 'https://raw.githubusercontent.com/duplocloud/docs/main/getting-started-1/application-focussed-interface/diagnostics.md'}, page_content='* **Metrics**: Metrics are fetched from hosts, containers, and cloud services like ELB, RDS, Redis, etc., and displayed in Grafana. Behind the scenes, for cloud services, these are collected by calling cloud provider APIs like CloudWatch and Azure Mon, while for nodes and containers, this is done using Prometheus, Node Exporter, and cAdvisor. Again, the dashboards are Tenant-centric and segregated per application and cloud service as shown in the picture below:'),\n",
       " Document(metadata={'source': 'https://raw.githubusercontent.com/duplocloud/docs/main/getting-started-1/application-focussed-interface/diagnostics.md'}, page_content='* **Alarms and Faults**: The platform creates faults for many failures automatically, such as Health check, container crashes, node crashes, deployment failures, etc. Further, users can easily set alarms on cloud services like CPU and Memory on EC2 instances, Free Disk space in RDS database, etc. All failures are displayed as faults per tenant. Sentry and Pager Duty projects can be linked to each tenant and DuploCloud will send these faults there so the user can set notification configurations.\\n* **Audit Trail:** An audit trail of all changes made to the system are logged in Elasticsearch where these can be audited using high level constructs like changes by tenant, by service, by change type, by user and dozens of other such filters.'),\n",
       " Document(metadata={'source': 'https://raw.githubusercontent.com/duplocloud/docs/main/getting-started-1/application-focussed-interface/infrastructure.md'}, page_content='# Infrastructure\\n\\nEach Infrastructure represents a network connection to a unique VPC/VNET, in a region with a Kubernetes. In case of AWS it can also include an ECS. Infrastructure can be created with 4 basic inputs: Name, VPC CIDR, Number of AZs, Region, and the option to enable or disable a K8S/ECS cluster. Behind the scenes, the system will automatically create the subnets, NAT gateway, routes, and clusters in the given region.'),\n",
       " Document(metadata={'source': 'https://raw.githubusercontent.com/duplocloud/docs/main/getting-started-1/application-focussed-interface/infrastructure.md'}, page_content='![Infrastructure Creation Screen](<../../.gitbook/assets/image (12) (4).png>)\\n\\nIf the Infrastructure requirement includes custom Private/Public Subnet CIDR, it can be achieved using  **Advanced Options.**\\n\\n{% hint style=\"info\" %}\\nA common use for Infrastructure is having two Infrastructures, one for prod and one for non-prod. Another one is having an infrastructure in a different region either for DR or localized deployments for clients in that region.\\n{% endhint %}\\n\\n***'),\n",
       " Document(metadata={'source': 'https://raw.githubusercontent.com/duplocloud/docs/main/getting-started-1/application-focussed-interface/plan.md'}, page_content='# Plan\\n\\nCorresponding to each infrastructure is the concept of a Plan. A Plan is a placeholder or a template for configurations. These configurations are consistently applied to all tenants within the plan (or Infrastructure). Examples of such configurations are:'),\n",
       " Document(metadata={'source': 'https://raw.githubusercontent.com/duplocloud/docs/main/getting-started-1/application-focussed-interface/plan.md'}, page_content='* Certificates available to be attached to load balancers in tenants of this plan\\n* Machine images\\n* WAF web ACLs\\n* Common IAM policies and SG rules to be applied to all resources in tenants within the plan.\\n* Unique or shared DNS domain name where applications provisioned in tenants within the plan can have a unique DNS name in this domain.\\n* Resource Quota: The plan also has a resource quota that is enforced in each of the tenants within that plan\\n* DB Parameter Groups\\n* Several policies and feature flags are to be applied at the infrastructure level on Tenants within the plan.'),\n",
       " Document(metadata={'source': 'https://raw.githubusercontent.com/duplocloud/docs/main/getting-started-1/application-focussed-interface/plan.md'}, page_content='The figure below shows a screenshot of the plan constructs:\\n\\n![](<../../.gitbook/assets/Screen Shot 2022-03-12 at 8.12.26 PM.png>)')]"
      ]
     },
     "execution_count": 4,
     "metadata": {},
     "output_type": "execute_result"
    }
   ],
   "source": [
    "from langchain.text_splitter import CharacterTextSplitter\n",
    "\n",
    "# Step 2: Split the documents into smaller chunks\n",
    "text_splitter = CharacterTextSplitter(chunk_size=500, chunk_overlap=50)\n",
    "texts = text_splitter.split_documents(docs)\n",
    "print(len(texts))\n",
    "texts\n"
   ]
  },
  {
   "cell_type": "code",
   "execution_count": 9,
   "metadata": {},
   "outputs": [],
   "source": [
    "from langchain.embeddings import OpenAIEmbeddings\n",
    "from langchain.vectorstores import FAISS\n",
    "\n",
    "# load half the embeddings\n",
    "embeddings = OpenAIEmbeddings(model=\"text-embedding-3-large\")\n",
    "vectorstore = FAISS.from_documents(texts, embeddings)\n"
   ]
  },
  {
   "cell_type": "code",
   "execution_count": 10,
   "metadata": {},
   "outputs": [],
   "source": [
    "vectorstore.save_local('./data/stores/faiss_vector_store')"
   ]
  },
  {
   "cell_type": "code",
   "execution_count": 11,
   "metadata": {},
   "outputs": [],
   "source": [
    "vectorstore = FAISS.load_local(\n",
    "    \"./data/stores/faiss_vector_store\", embeddings, allow_dangerous_deserialization=True\n",
    ")"
   ]
  },
  {
   "cell_type": "code",
   "execution_count": null,
   "metadata": {},
   "outputs": [],
   "source": []
  }
 ],
 "metadata": {
  "kernelspec": {
   "display_name": "Python 3",
   "language": "python",
   "name": "python3"
  },
  "language_info": {
   "codemirror_mode": {
    "name": "ipython",
    "version": 3
   },
   "file_extension": ".py",
   "mimetype": "text/x-python",
   "name": "python",
   "nbconvert_exporter": "python",
   "pygments_lexer": "ipython3",
   "version": "3.11.9"
  }
 },
 "nbformat": 4,
 "nbformat_minor": 2
}
